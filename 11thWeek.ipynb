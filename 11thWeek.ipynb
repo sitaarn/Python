{
  "nbformat": 4,
  "nbformat_minor": 0,
  "metadata": {
    "colab": {
      "provenance": [],
      "authorship_tag": "ABX9TyOO8RTxZrlMCFr5JZ+zAyEf",
      "include_colab_link": true
    },
    "kernelspec": {
      "name": "python3",
      "display_name": "Python 3"
    },
    "language_info": {
      "name": "python"
    }
  },
  "cells": [
    {
      "cell_type": "markdown",
      "metadata": {
        "id": "view-in-github",
        "colab_type": "text"
      },
      "source": [
        "<a href=\"https://colab.research.google.com/github/sitaarn/Python/blob/main/11thWeek.ipynb\" target=\"_parent\"><img src=\"https://colab.research.google.com/assets/colab-badge.svg\" alt=\"Open In Colab\"/></a>"
      ]
    },
    {
      "cell_type": "code",
      "execution_count": 1,
      "metadata": {
        "id": "wF4rz9sNKLNo"
      },
      "outputs": [],
      "source": [
        "import sys\n",
        "sys.path.append('/content')"
      ]
    },
    {
      "cell_type": "code",
      "source": [
        "#Import the module named mymodule, and call the greeting function:\n",
        "\n",
        "import modulesita\n",
        "\n",
        "modulesita.greeting(\"Sita\")"
      ],
      "metadata": {
        "colab": {
          "base_uri": "https://localhost:8080/"
        },
        "id": "M8QmySWHLbyh",
        "outputId": "243c7cfb-e231-4d8e-f411-a231d0af547d"
      },
      "execution_count": 3,
      "outputs": [
        {
          "output_type": "stream",
          "name": "stdout",
          "text": [
            "Hello, Sita\n"
          ]
        }
      ]
    },
    {
      "cell_type": "code",
      "source": [
        "#Import the module named mymodule, and access the person1 dictionary:\n",
        "\n",
        "import modulesita2\n",
        "\n",
        "a = modulesita2.person1[\"Age\"]\n",
        "print(a)"
      ],
      "metadata": {
        "colab": {
          "base_uri": "https://localhost:8080/"
        },
        "id": "uM5oZDikMRWp",
        "outputId": "95020706-75e7-4b79-a83e-46b8858ed0cd"
      },
      "execution_count": 4,
      "outputs": [
        {
          "output_type": "stream",
          "name": "stdout",
          "text": [
            "18\n"
          ]
        }
      ]
    },
    {
      "cell_type": "code",
      "source": [
        "#Create an alias for mymodule called mdls2:\n",
        "\n",
        "import modulesita2 as mdls2\n",
        "\n",
        "a = mdls2.person1[\"Age\"]\n",
        "print(a)"
      ],
      "metadata": {
        "colab": {
          "base_uri": "https://localhost:8080/"
        },
        "id": "bpbmzBaCMftB",
        "outputId": "5a849182-86bf-48b5-ec7d-b4a8aa806283"
      },
      "execution_count": 5,
      "outputs": [
        {
          "output_type": "stream",
          "name": "stdout",
          "text": [
            "18\n"
          ]
        }
      ]
    },
    {
      "cell_type": "code",
      "source": [
        "#Import and use the platform module:\n",
        "\n",
        "import platform\n",
        "\n",
        "x = platform.system()\n",
        "print(x)"
      ],
      "metadata": {
        "colab": {
          "base_uri": "https://localhost:8080/"
        },
        "id": "uLFxHH6jMmZq",
        "outputId": "27d63175-310c-424d-d682-4d1ca30f3265"
      },
      "execution_count": 6,
      "outputs": [
        {
          "output_type": "stream",
          "name": "stdout",
          "text": [
            "Linux\n"
          ]
        }
      ]
    },
    {
      "cell_type": "code",
      "source": [
        "#List all the defined names belonging to the platform module:\n",
        "\n",
        "import platform\n",
        "\n",
        "x = dir(platform)\n",
        "print(x)"
      ],
      "metadata": {
        "colab": {
          "base_uri": "https://localhost:8080/"
        },
        "id": "7lZjrB2cMqp9",
        "outputId": "d5f97d49-2020-417e-9219-a25d55a44f31"
      },
      "execution_count": 7,
      "outputs": [
        {
          "output_type": "stream",
          "name": "stdout",
          "text": [
            "['_Processor', '_WIN32_CLIENT_RELEASES', '_WIN32_SERVER_RELEASES', '__builtins__', '__cached__', '__copyright__', '__doc__', '__file__', '__loader__', '__name__', '__package__', '__spec__', '__version__', '_comparable_version', '_component_re', '_default_architecture', '_follow_symlinks', '_get_machine_win32', '_ironpython26_sys_version_parser', '_ironpython_sys_version_parser', '_java_getprop', '_libc_search', '_mac_ver_xml', '_node', '_norm_version', '_os_release_cache', '_os_release_candidates', '_os_release_line', '_os_release_unescape', '_parse_os_release', '_platform', '_platform_cache', '_pypy_sys_version_parser', '_sys_version', '_sys_version_cache', '_sys_version_parser', '_syscmd_file', '_syscmd_ver', '_uname_cache', '_unknown_as_blank', '_ver_output', '_ver_stages', 'architecture', 'collections', 'freedesktop_os_release', 'functools', 'itertools', 'java_ver', 'libc_ver', 'mac_ver', 'machine', 'node', 'os', 'platform', 'processor', 'python_branch', 'python_build', 'python_compiler', 'python_implementation', 'python_revision', 'python_version', 'python_version_tuple', 're', 'release', 'subprocess', 'sys', 'system', 'system_alias', 'uname', 'uname_result', 'version', 'win32_edition', 'win32_is_iot', 'win32_ver']\n"
          ]
        }
      ]
    },
    {
      "cell_type": "code",
      "source": [
        "from modulesita3 import person1\n",
        "\n",
        "print (person1[\"Name\"])\n",
        "print (person1[\"Age\"])\n"
      ],
      "metadata": {
        "colab": {
          "base_uri": "https://localhost:8080/"
        },
        "id": "GDeK0fd5Msv6",
        "outputId": "8738409d-da70-4c97-9559-83ddcfeac1f9"
      },
      "execution_count": 8,
      "outputs": [
        {
          "output_type": "stream",
          "name": "stdout",
          "text": [
            "Sita\n",
            "18\n"
          ]
        }
      ]
    },
    {
      "cell_type": "code",
      "source": [
        "# Weekly Exercise 1\n",
        "\n",
        "from matematika import luas_lingkaran\n",
        "\n",
        "#Hitung luas lingkaran\n",
        "r = 5\n",
        "luas_lingkaran = luas_lingkaran(r)\n",
        "print(f'1. Luas lingkaran adalah: {luas_lingkaran}')\n"
      ],
      "metadata": {
        "colab": {
          "base_uri": "https://localhost:8080/"
        },
        "id": "7uKLQkcONNOl",
        "outputId": "a4904642-def9-4d22-c4ef-6a06b2c84c1e"
      },
      "execution_count": 9,
      "outputs": [
        {
          "output_type": "stream",
          "name": "stdout",
          "text": [
            "1. Luas lingkaran adalah: 78.5\n"
          ]
        }
      ]
    },
    {
      "cell_type": "code",
      "source": [
        "# Weekly Exercise 1 pt 2\n",
        "\n",
        "from matematika import luas_persegi\n",
        "\n",
        "#Hitung luas persegi\n",
        "s = 6\n",
        "luas_persegi = luas_persegi(s)\n",
        "print(f'2. Luas persegi adalah: {luas_persegi}')\n"
      ],
      "metadata": {
        "colab": {
          "base_uri": "https://localhost:8080/"
        },
        "id": "TIgWkQB6OB2d",
        "outputId": "7596e309-fba7-4e56-e74d-1e49645c717a"
      },
      "execution_count": 10,
      "outputs": [
        {
          "output_type": "stream",
          "name": "stdout",
          "text": [
            "2. Luas persegi adalah: 36\n"
          ]
        }
      ]
    },
    {
      "cell_type": "code",
      "source": [
        "# Weekly exercise 2\n",
        "\n",
        "import math\n",
        "\n",
        "# 1. Menggunakan math.ceil untuk pembulatan ke atas\n",
        "num = 3.6\n",
        "ceil_num = math.ceil(num)\n",
        "print(f'1. Hasil pembulatan adalah: {ceil_num}')\n",
        "\n",
        "# 2. Menggunakan math.sqrt untuk akar kuadrat\n",
        "num_akar = 49\n",
        "akar = math.sqrt(num_akar)\n",
        "print(f'2. Hasil akar kuadrat dari {num_akar} adalah: {akar}')\n",
        "\n",
        "# 3. Menggunakan math.pow untuk bilangan pangkat\n",
        "b = 3 #basis\n",
        "p = 4 #pangkat\n",
        "hasil = math.pow(b, p)\n",
        "print(f'3. {b} pangkat {p} adalah: {hasil}')\n",
        "\n",
        "# 4. Menggunakan math.cos untuk Menghitung cos dari sudut (dalam radian)\n",
        "derajat = 60\n",
        "radian = math.radians(derajat)\n",
        "cos = math.cos(radian)\n",
        "print(f'4. Hasil dari cos {derajat} adalah: {cos}')\n",
        "\n",
        "# 5. Menggunakan math.factorial untuk menghitung faktorial\n",
        "f = 5\n",
        "faktorial = math.factorial(f)\n",
        "print(f'5. Hasil faktorial dari {f} adalah: {faktorial}')\n"
      ],
      "metadata": {
        "colab": {
          "base_uri": "https://localhost:8080/"
        },
        "id": "04LwSUabOXxI",
        "outputId": "b9ab7191-cd5b-4050-c519-1716b35acf1f"
      },
      "execution_count": 12,
      "outputs": [
        {
          "output_type": "stream",
          "name": "stdout",
          "text": [
            "1. Hasil pembulatan adalah: 4\n",
            "2. Hasil akar kuadrat dari 49 adalah: 7.0\n",
            "3. 3 pangkat 4 adalah: 81.0\n",
            "4. Hasil dari cos 60 adalah: 0.5000000000000001\n",
            "5. Hasil faktorial dari 5 adalah: 120\n"
          ]
        }
      ]
    },
    {
      "cell_type": "code",
      "source": [],
      "metadata": {
        "id": "RS1-ja4tPBQB"
      },
      "execution_count": null,
      "outputs": []
    }
  ]
}