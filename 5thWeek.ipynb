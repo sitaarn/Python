{
  "nbformat": 4,
  "nbformat_minor": 0,
  "metadata": {
    "colab": {
      "provenance": [],
      "authorship_tag": "ABX9TyM8sUO3J2yrSIEm/fPFe6Tg",
      "include_colab_link": true
    },
    "kernelspec": {
      "name": "python3",
      "display_name": "Python 3"
    },
    "language_info": {
      "name": "python"
    }
  },
  "cells": [
    {
      "cell_type": "markdown",
      "metadata": {
        "id": "view-in-github",
        "colab_type": "text"
      },
      "source": [
        "<a href=\"https://colab.research.google.com/github/sitaarn/Python/blob/main/5thWeek.ipynb\" target=\"_parent\"><img src=\"https://colab.research.google.com/assets/colab-badge.svg\" alt=\"Open In Colab\"/></a>"
      ]
    },
    {
      "cell_type": "code",
      "execution_count": null,
      "metadata": {
        "colab": {
          "base_uri": "https://localhost:8080/"
        },
        "id": "kG1DbLvylaJv",
        "outputId": "efacbb72-4e24-47f9-fa0f-e6262ba5ffa3"
      },
      "outputs": [
        {
          "output_type": "stream",
          "name": "stdout",
          "text": [
            "The number is positive.\n"
          ]
        }
      ],
      "source": [
        "num = 5\n",
        "\n",
        "if num > 0:\n",
        "    print(\"The number is positive.\")\n",
        "else:\n",
        "    if num < 0:\n",
        "        print(\"The number is negative.\")\n",
        "    else:\n",
        "        print(\"The number is zero.\")\n",
        "\n"
      ]
    },
    {
      "cell_type": "code",
      "source": [
        "# Example 2 : Age classifier\n",
        "age = 35\n",
        "\n",
        "if age >= 60:\n",
        "    print(\"You are a senior citizen.\")\n",
        "else:\n",
        "    if age >= 18:\n",
        "        print(\"You are an adult.\")\n",
        "    else:\n",
        "        print(\"You are a teenager.\")\n"
      ],
      "metadata": {
        "colab": {
          "base_uri": "https://localhost:8080/"
        },
        "id": "3tX5zVp9luRV",
        "outputId": "abc4c64a-e2c1-4f63-a5fd-5d2caae68a92"
      },
      "execution_count": null,
      "outputs": [
        {
          "output_type": "stream",
          "name": "stdout",
          "text": [
            "You are an adult.\n"
          ]
        }
      ]
    },
    {
      "cell_type": "code",
      "source": [
        "# Write your code below and press Shift+Enter to execute\n",
        "\n",
        "username = input('Enter your username ')\n",
        "password = input('Enter your password ')\n",
        "\n",
        "if username == ' admin':\n",
        "  if password == ' password':\n",
        "      print('Login succesful! Welcome, admin.')\n",
        "  elif password == \"12345\":\n",
        "        print(\"Weak password. Please reset your password.\")\n",
        "  else:\n",
        "        print(\"Incorrect password. Please try again.\")\n",
        "else:\n",
        "    if username == \"guest\":\n",
        "      if password == \"guest\":\n",
        "            print(\"Login successful! Welcome, guest.\")\n",
        "      else:\n",
        "            print(\"Incorrect password. Please try again.\")\n",
        "    else:\n",
        "        print(\"Unknown user. Please try again.\")"
      ],
      "metadata": {
        "id": "wE6svI0-lz6G",
        "colab": {
          "base_uri": "https://localhost:8080/"
        },
        "outputId": "c91e89ed-9021-401c-d900-6d67aaf2eabf"
      },
      "execution_count": 9,
      "outputs": [
        {
          "output_type": "stream",
          "name": "stdout",
          "text": [
            "Enter your username guest\n",
            "Enter your password guest\n",
            "Login successful! Welcome, guest.\n"
          ]
        }
      ]
    },
    {
      "cell_type": "code",
      "source": [
        "# Weekly exercise 1\n",
        "\n",
        "Tahun = int(input('Masukkan Tahun = '))\n",
        "\n",
        "if (Tahun % 4 == 0):\n",
        "  print(str (Tahun) + ' Merupakan Tahun Kabisat')\n",
        "else:\n",
        "  print(str (Tahun) + ' Bukan Tahun Kabisat')\n"
      ],
      "metadata": {
        "colab": {
          "base_uri": "https://localhost:8080/"
        },
        "id": "2fK3fFMimvR9",
        "outputId": "6abfa42d-3138-4dd8-b71c-17119889712a"
      },
      "execution_count": null,
      "outputs": [
        {
          "output_type": "stream",
          "name": "stdout",
          "text": [
            "Masukkan Tahun = 2004\n",
            "2004 Merupakan Tahun Kabisat\n"
          ]
        }
      ]
    },
    {
      "cell_type": "code",
      "source": [
        "# Weekly Exercise 2\n",
        "\n",
        "A = int(input('Nilai A = '))\n",
        "B = int(input('Nilai B = '))\n",
        "C = int(input('Nilai C = '))\n",
        "\n",
        "if A > B and A > C:\n",
        "  print ('Bilangan terbesar adalah', A)\n",
        "elif B > C and B > A:\n",
        "  print('Bilangan terbesar adalah', B)\n",
        "else:\n",
        "  print('Bilangan terbesar adalah', C)\n"
      ],
      "metadata": {
        "colab": {
          "base_uri": "https://localhost:8080/"
        },
        "id": "ziRYPOagn9Ut",
        "outputId": "c79922c5-39fc-4e13-b47d-d7f90b799863"
      },
      "execution_count": null,
      "outputs": [
        {
          "output_type": "stream",
          "name": "stdout",
          "text": [
            "Nilai A = 7\n",
            "Nilai B = 6\n",
            "Nilai C = 8\n",
            "Bilangan terbesar adalah 8\n"
          ]
        }
      ]
    },
    {
      "cell_type": "code",
      "source": [
        "# Weekly Exercise 3\n",
        "\n",
        "Konsumen = input('Jenis Konsumen = ')\n",
        "Belanja = float(input('Total Belanja = '))\n",
        "\n",
        "if (Konsumen == 'Member'):\n",
        "  if (Belanja >= 100000) and (Belanja < 200000):\n",
        "    Total = Belanja - (Belanja * (3/100 + 2/100))\n",
        "  elif (Belanja >= 200000):\n",
        "    Total = Belanja - (Belanja * (4/100 + 2/100))\n",
        "  else:\n",
        "    Total = Belanja - (Belanja * (2/100))\n",
        "elif (Konsumen == 'Non Member'):\n",
        "  if (Belanja >= 100000) and (Belanja < 200000):\n",
        "    Total = Belanja - (Belanja * (3/100))\n",
        "  elif (Belanja >= 200000):\n",
        "    Total = Belanja - (Belanja * (4/100))\n",
        "  else:\n",
        "    Total = Belanja\n",
        "\n",
        "print('Total Belanja = ' + str(Total))\n"
      ],
      "metadata": {
        "colab": {
          "base_uri": "https://localhost:8080/"
        },
        "id": "ta29PTCStNAN",
        "outputId": "02cd35af-72c6-40b8-c830-e25699d4b7b9"
      },
      "execution_count": null,
      "outputs": [
        {
          "output_type": "stream",
          "name": "stdout",
          "text": [
            "Jenis Konsumen = Member\n",
            "Total Belanja = 375500\n",
            "Total Belanja = 352970.0\n"
          ]
        }
      ]
    },
    {
      "cell_type": "code",
      "source": [
        "# Weekly Exercise 4\n",
        "\n",
        "username = input('Masukkan Username = ')\n",
        "email = input('Masukkan Email = ')\n",
        "password = input('Masukkan Password = ')\n",
        "\n",
        "if len(username) == 0:\n",
        "  print('Username Tidak Boleh Kosong')\n",
        "else:\n",
        "  if '@' not in email:\n",
        "    print('Alamat Email Tidak Valid')\n",
        "  else:\n",
        "    if len(password) < 8:\n",
        "      print('Password Harus Lebih Dari 8 Karakter')\n",
        "    else:\n",
        "      print('')\n",
        "      print('Registrasi Berhasil')\n",
        "      print('Username: ', username)\n",
        "      print('Email: ', email)\n",
        "      print('Password: ', password)\n"
      ],
      "metadata": {
        "colab": {
          "base_uri": "https://localhost:8080/"
        },
        "id": "3ysmMW4R2mn1",
        "outputId": "14d98cd3-e6c5-486f-9613-1ad5c4ec61fa"
      },
      "execution_count": 10,
      "outputs": [
        {
          "output_type": "stream",
          "name": "stdout",
          "text": [
            "Masukkan Username = sitarn17\n",
            "Masukkan Email = arshita@gmail.com\n",
            "Masukkan Password = shetttaa123\n",
            "\n",
            "Registrasi Berhasil\n",
            "Username:  sitarn17\n",
            "Email:  arshita@gmail.com\n",
            "Password:  shetttaa123\n"
          ]
        }
      ]
    },
    {
      "cell_type": "code",
      "source": [],
      "metadata": {
        "id": "4w9duMED-HWE"
      },
      "execution_count": null,
      "outputs": []
    }
  ]
}