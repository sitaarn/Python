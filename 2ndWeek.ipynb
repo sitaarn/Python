{
  "nbformat": 4,
  "nbformat_minor": 0,
  "metadata": {
    "colab": {
      "provenance": [],
      "authorship_tag": "ABX9TyOEcLXNsJDERhF5tAlQTmt8",
      "include_colab_link": true
    },
    "kernelspec": {
      "name": "python3",
      "display_name": "Python 3"
    },
    "language_info": {
      "name": "python"
    }
  },
  "cells": [
    {
      "cell_type": "markdown",
      "metadata": {
        "id": "view-in-github",
        "colab_type": "text"
      },
      "source": [
        "<a href=\"https://colab.research.google.com/github/sitaarn/Python/blob/main/2ndWeeks.ipynb\" target=\"_parent\"><img src=\"https://colab.research.google.com/assets/colab-badge.svg\" alt=\"Open In Colab\"/></a>"
      ]
    },
    {
      "cell_type": "code",
      "execution_count": 1,
      "metadata": {
        "colab": {
          "base_uri": "https://localhost:8080/"
        },
        "id": "81B6RDd6vJV5",
        "outputId": "32805c5a-6395-4b69-b775-4944e0befb81"
      },
      "outputs": [
        {
          "output_type": "execute_result",
          "data": {
            "text/plain": [
              "11"
            ]
          },
          "metadata": {},
          "execution_count": 1
        }
      ],
      "source": [
        "# Integer\n",
        "\n",
        "11\n"
      ]
    },
    {
      "cell_type": "code",
      "source": [
        "# Float\n",
        "\n",
        "2.14\n"
      ],
      "metadata": {
        "colab": {
          "base_uri": "https://localhost:8080/"
        },
        "id": "DofkCNB8vTTy",
        "outputId": "e6e99afc-bf99-43c2-b54e-b418a9276fbd"
      },
      "execution_count": null,
      "outputs": [
        {
          "output_type": "execute_result",
          "data": {
            "text/plain": [
              "2.14"
            ]
          },
          "metadata": {},
          "execution_count": 2
        }
      ]
    },
    {
      "cell_type": "code",
      "source": [
        "# String\n",
        "\n",
        "#print(\"Hello, Python 102!\")\n",
        "#print(\"Hello, Python 101!\")\n",
        "\n",
        "\"Hello, Python 102!\"\n",
        "#\"Hello, Python 101!\""
      ],
      "metadata": {
        "colab": {
          "base_uri": "https://localhost:8080/",
          "height": 35
        },
        "id": "0fSV8HVtvZBQ",
        "outputId": "483c9afb-2d04-4706-c32b-084f06a13971"
      },
      "execution_count": null,
      "outputs": [
        {
          "output_type": "execute_result",
          "data": {
            "text/plain": [
              "'Hello, Python 102!'"
            ],
            "application/vnd.google.colaboratory.intrinsic+json": {
              "type": "string"
            }
          },
          "metadata": {},
          "execution_count": 3
        }
      ]
    },
    {
      "cell_type": "code",
      "source": [
        "# Type of 12\n",
        "\n",
        "type(12)\n"
      ],
      "metadata": {
        "colab": {
          "base_uri": "https://localhost:8080/"
        },
        "id": "FSIUQ8ecv9XA",
        "outputId": "4c50be00-bb25-43ca-ff25-528e6b385162"
      },
      "execution_count": null,
      "outputs": [
        {
          "output_type": "execute_result",
          "data": {
            "text/plain": [
              "int"
            ]
          },
          "metadata": {},
          "execution_count": 5
        }
      ]
    },
    {
      "cell_type": "code",
      "source": [
        "# Type of \"Hello, Python 101\"\n",
        "\n",
        "type(\"Hello, Python 101!\")\n"
      ],
      "metadata": {
        "colab": {
          "base_uri": "https://localhost:8080/"
        },
        "id": "9bYMuyahwGqY",
        "outputId": "11e6be1a-1667-4696-8528-4cc9430b4556"
      },
      "execution_count": null,
      "outputs": [
        {
          "output_type": "execute_result",
          "data": {
            "text/plain": [
              "str"
            ]
          },
          "metadata": {},
          "execution_count": 6
        }
      ]
    },
    {
      "cell_type": "code",
      "source": [
        "# Write your code below. Don't forget to press Shift+Enter to execute the cell\n",
        "type(12.0)\n"
      ],
      "metadata": {
        "colab": {
          "base_uri": "https://localhost:8080/"
        },
        "id": "bo1NEMM8wn55",
        "outputId": "5b9b497f-08e8-4e91-93ae-d2d70a53353c"
      },
      "execution_count": null,
      "outputs": [
        {
          "output_type": "execute_result",
          "data": {
            "text/plain": [
              "float"
            ]
          },
          "metadata": {},
          "execution_count": 8
        }
      ]
    },
    {
      "cell_type": "code",
      "source": [
        "# Print the type of -1\n",
        "\n",
        "type(-1)\n"
      ],
      "metadata": {
        "colab": {
          "base_uri": "https://localhost:8080/"
        },
        "id": "SIQEFIWHw7x_",
        "outputId": "2072a75e-064c-4914-edd3-da5eec15ad1b"
      },
      "execution_count": null,
      "outputs": [
        {
          "output_type": "execute_result",
          "data": {
            "text/plain": [
              "int"
            ]
          },
          "metadata": {},
          "execution_count": 9
        }
      ]
    },
    {
      "cell_type": "code",
      "source": [
        "type (-6)\n"
      ],
      "metadata": {
        "colab": {
          "base_uri": "https://localhost:8080/"
        },
        "id": "LrOd1zEExDaP",
        "outputId": "aa04f044-098a-4c54-8439-6cdbde8c6648"
      },
      "execution_count": null,
      "outputs": [
        {
          "output_type": "execute_result",
          "data": {
            "text/plain": [
              "int"
            ]
          },
          "metadata": {},
          "execution_count": 10
        }
      ]
    },
    {
      "cell_type": "code",
      "source": [
        "# Print the type of 4\n",
        "\n",
        "type(4)\n"
      ],
      "metadata": {
        "colab": {
          "base_uri": "https://localhost:8080/"
        },
        "id": "dGN-BGg8xG84",
        "outputId": "c34b93ef-26ed-46e9-eb05-916bf4578631"
      },
      "execution_count": null,
      "outputs": [
        {
          "output_type": "execute_result",
          "data": {
            "text/plain": [
              "int"
            ]
          },
          "metadata": {},
          "execution_count": 11
        }
      ]
    },
    {
      "cell_type": "code",
      "source": [
        "# Print the type of 0\n",
        "\n",
        "type(0)\n"
      ],
      "metadata": {
        "colab": {
          "base_uri": "https://localhost:8080/"
        },
        "id": "86iffAuqxNkY",
        "outputId": "882d15f2-fc18-46c6-c900-b1023be3c327"
      },
      "execution_count": null,
      "outputs": [
        {
          "output_type": "execute_result",
          "data": {
            "text/plain": [
              "int"
            ]
          },
          "metadata": {},
          "execution_count": 12
        }
      ]
    },
    {
      "cell_type": "code",
      "source": [
        "# Print the type of 1.0\n",
        "\n",
        "type(1.0)\n"
      ],
      "metadata": {
        "colab": {
          "base_uri": "https://localhost:8080/"
        },
        "id": "gOqYfLhYxTBv",
        "outputId": "01da3be0-76d8-41db-d364-2fb52e6a8a33"
      },
      "execution_count": null,
      "outputs": [
        {
          "output_type": "execute_result",
          "data": {
            "text/plain": [
              "float"
            ]
          },
          "metadata": {},
          "execution_count": 13
        }
      ]
    },
    {
      "cell_type": "code",
      "source": [
        "# Print the type of 0.56\n",
        "\n",
        "type(0.56)\n"
      ],
      "metadata": {
        "id": "yyCbC95Bxd1A"
      },
      "execution_count": null,
      "outputs": []
    },
    {
      "cell_type": "code",
      "source": [
        "# System settings about float type\n",
        "import sys # it is needes to declare the library \"sys\" before using it\n",
        "sys.float_info\n"
      ],
      "metadata": {
        "colab": {
          "base_uri": "https://localhost:8080/"
        },
        "id": "D4YRLn6gxrmX",
        "outputId": "9653f4b5-ee51-4b9d-e466-0ac77b806d8b"
      },
      "execution_count": null,
      "outputs": [
        {
          "output_type": "execute_result",
          "data": {
            "text/plain": [
              "sys.float_info(max=1.7976931348623157e+308, max_exp=1024, max_10_exp=308, min=2.2250738585072014e-308, min_exp=-1021, min_10_exp=-307, dig=15, mant_dig=53, epsilon=2.220446049250313e-16, radix=2, rounds=1)"
            ]
          },
          "metadata": {},
          "execution_count": 14
        }
      ]
    },
    {
      "cell_type": "code",
      "source": [
        "# Verify that this is an integer\n",
        "\n",
        "type(2)\n"
      ],
      "metadata": {
        "colab": {
          "base_uri": "https://localhost:8080/"
        },
        "id": "S-I3IxCmx_Pn",
        "outputId": "1204adbd-9a10-4f74-e736-f9f18f148e06"
      },
      "execution_count": null,
      "outputs": [
        {
          "output_type": "execute_result",
          "data": {
            "text/plain": [
              "int"
            ]
          },
          "metadata": {},
          "execution_count": 15
        }
      ]
    },
    {
      "cell_type": "code",
      "source": [
        "# Convert 2 to a float\n",
        "\n",
        "float(2)\n"
      ],
      "metadata": {
        "colab": {
          "base_uri": "https://localhost:8080/"
        },
        "id": "B86woHOEyG3X",
        "outputId": "d78c68c5-8298-4151-c86d-07e9effd98b2"
      },
      "execution_count": null,
      "outputs": [
        {
          "output_type": "execute_result",
          "data": {
            "text/plain": [
              "2.0"
            ]
          },
          "metadata": {},
          "execution_count": 16
        }
      ]
    },
    {
      "cell_type": "code",
      "source": [
        "# Convert integer 2 to a float and check its type\n",
        "\n",
        "type(float(2))\n"
      ],
      "metadata": {
        "colab": {
          "base_uri": "https://localhost:8080/"
        },
        "id": "ZM_GHX57yPc-",
        "outputId": "46613d5b-1421-45c5-d1c4-733898961c65"
      },
      "execution_count": null,
      "outputs": [
        {
          "output_type": "execute_result",
          "data": {
            "text/plain": [
              "float"
            ]
          },
          "metadata": {},
          "execution_count": 18
        }
      ]
    },
    {
      "cell_type": "code",
      "source": [
        "# Casting 1.1 to integer will result in loss of infortmation\n",
        "\n",
        "int(1.1)\n"
      ],
      "metadata": {
        "colab": {
          "base_uri": "https://localhost:8080/"
        },
        "id": "wsaRRpcayZv4",
        "outputId": "bd423773-1841-4974-9532-3c8e9b5f162c"
      },
      "execution_count": null,
      "outputs": [
        {
          "output_type": "execute_result",
          "data": {
            "text/plain": [
              "1"
            ]
          },
          "metadata": {},
          "execution_count": 17
        }
      ]
    },
    {
      "cell_type": "code",
      "source": [
        "# Convert a string into an integer with error\n",
        "\n",
        "int('1 or 2 people')\n"
      ],
      "metadata": {
        "colab": {
          "base_uri": "https://localhost:8080/",
          "height": 176
        },
        "id": "ldV0mWpmyhhX",
        "outputId": "9cd45d49-b2e0-4724-b467-269a6759f051"
      },
      "execution_count": null,
      "outputs": [
        {
          "output_type": "error",
          "ename": "ValueError",
          "evalue": "invalid literal for int() with base 10: '1 or 2 people'",
          "traceback": [
            "\u001b[0;31m---------------------------------------------------------------------------\u001b[0m",
            "\u001b[0;31mValueError\u001b[0m                                Traceback (most recent call last)",
            "\u001b[0;32m<ipython-input-19-b78145d165c7>\u001b[0m in \u001b[0;36m<cell line: 3>\u001b[0;34m()\u001b[0m\n\u001b[1;32m      1\u001b[0m \u001b[0;31m# Convert a string into an integer with error\u001b[0m\u001b[0;34m\u001b[0m\u001b[0;34m\u001b[0m\u001b[0m\n\u001b[1;32m      2\u001b[0m \u001b[0;34m\u001b[0m\u001b[0m\n\u001b[0;32m----> 3\u001b[0;31m \u001b[0mint\u001b[0m\u001b[0;34m(\u001b[0m\u001b[0;34m'1 or 2 people'\u001b[0m\u001b[0;34m)\u001b[0m\u001b[0;34m\u001b[0m\u001b[0;34m\u001b[0m\u001b[0m\n\u001b[0m",
            "\u001b[0;31mValueError\u001b[0m: invalid literal for int() with base 10: '1 or 2 people'"
          ]
        }
      ]
    },
    {
      "cell_type": "code",
      "source": [
        "# Convert the string \"1.2\" into a float\n",
        "\n",
        "float('1.2')"
      ],
      "metadata": {
        "colab": {
          "base_uri": "https://localhost:8080/"
        },
        "id": "yuvpN2JCy_qf",
        "outputId": "cc98ce80-0216-4b8f-a762-64a4b70279e8"
      },
      "execution_count": null,
      "outputs": [
        {
          "output_type": "execute_result",
          "data": {
            "text/plain": [
              "1.2"
            ]
          },
          "metadata": {},
          "execution_count": 20
        }
      ]
    },
    {
      "cell_type": "code",
      "source": [
        "# Convert a float to a string\n",
        "\n",
        "str(1.2)\n"
      ],
      "metadata": {
        "colab": {
          "base_uri": "https://localhost:8080/",
          "height": 35
        },
        "id": "NqimuX39zJa2",
        "outputId": "bd9a7b0c-fac0-4275-b6ba-9e6332a1111a"
      },
      "execution_count": null,
      "outputs": [
        {
          "output_type": "execute_result",
          "data": {
            "text/plain": [
              "'1.2'"
            ],
            "application/vnd.google.colaboratory.intrinsic+json": {
              "type": "string"
            }
          },
          "metadata": {},
          "execution_count": 21
        }
      ]
    },
    {
      "cell_type": "code",
      "source": [
        "# Value true\n",
        "\n",
        "True\n"
      ],
      "metadata": {
        "colab": {
          "base_uri": "https://localhost:8080/"
        },
        "id": "7DqKLPPlzV3u",
        "outputId": "0523f753-6a1e-40f1-9d84-67f43dc2038c"
      },
      "execution_count": null,
      "outputs": [
        {
          "output_type": "execute_result",
          "data": {
            "text/plain": [
              "True"
            ]
          },
          "metadata": {},
          "execution_count": 22
        }
      ]
    },
    {
      "cell_type": "code",
      "source": [
        "# Value false\n",
        "\n",
        "False\n"
      ],
      "metadata": {
        "colab": {
          "base_uri": "https://localhost:8080/"
        },
        "id": "2WJk--qRzbh2",
        "outputId": "677794da-7fb2-4257-881b-f2b52dcd69b2"
      },
      "execution_count": null,
      "outputs": [
        {
          "output_type": "execute_result",
          "data": {
            "text/plain": [
              "False"
            ]
          },
          "metadata": {},
          "execution_count": 23
        }
      ]
    },
    {
      "cell_type": "code",
      "source": [
        "# Type of True\n",
        "\n",
        "type(True)\n"
      ],
      "metadata": {
        "colab": {
          "base_uri": "https://localhost:8080/"
        },
        "id": "XP3UoE4Izh3O",
        "outputId": "ec241325-676c-408b-bc52-63455b72217f"
      },
      "execution_count": null,
      "outputs": [
        {
          "output_type": "execute_result",
          "data": {
            "text/plain": [
              "bool"
            ]
          },
          "metadata": {},
          "execution_count": 26
        }
      ]
    },
    {
      "cell_type": "code",
      "source": [
        "# Type of False\n",
        "\n",
        "type(False)\n"
      ],
      "metadata": {
        "colab": {
          "base_uri": "https://localhost:8080/"
        },
        "id": "GIRc3dREzoue",
        "outputId": "6dcbe453-a2f7-465c-894b-524b71870a37"
      },
      "execution_count": null,
      "outputs": [
        {
          "output_type": "execute_result",
          "data": {
            "text/plain": [
              "bool"
            ]
          },
          "metadata": {},
          "execution_count": 31
        }
      ]
    },
    {
      "cell_type": "code",
      "source": [
        "# Convert True to int\n",
        "\n",
        "int(True)\n"
      ],
      "metadata": {
        "colab": {
          "base_uri": "https://localhost:8080/"
        },
        "id": "kO92Jo020OE1",
        "outputId": "2aa8aa41-e86e-424a-deff-54bdcb719fb0"
      },
      "execution_count": null,
      "outputs": [
        {
          "output_type": "execute_result",
          "data": {
            "text/plain": [
              "1"
            ]
          },
          "metadata": {},
          "execution_count": 32
        }
      ]
    },
    {
      "cell_type": "code",
      "source": [
        "# Convert 1 to boolean\n",
        "\n",
        "bool(1)\n"
      ],
      "metadata": {
        "colab": {
          "base_uri": "https://localhost:8080/"
        },
        "id": "fEt_g2sUzwMV",
        "outputId": "78ad8c50-c587-418d-dd0c-10fb1328845f"
      },
      "execution_count": null,
      "outputs": [
        {
          "output_type": "execute_result",
          "data": {
            "text/plain": [
              "True"
            ]
          },
          "metadata": {},
          "execution_count": 33
        }
      ]
    },
    {
      "cell_type": "code",
      "source": [
        "# Convert 0 to boolean\n",
        "\n",
        "bool(0)\n"
      ],
      "metadata": {
        "colab": {
          "base_uri": "https://localhost:8080/"
        },
        "id": "8TySbNCd0fGf",
        "outputId": "fe605255-3a38-459f-d6cb-acae62a2d912"
      },
      "execution_count": null,
      "outputs": [
        {
          "output_type": "execute_result",
          "data": {
            "text/plain": [
              "False"
            ]
          },
          "metadata": {},
          "execution_count": 34
        }
      ]
    },
    {
      "cell_type": "code",
      "source": [
        "# Convert True to float\n",
        "\n",
        "float(True)\n"
      ],
      "metadata": {
        "colab": {
          "base_uri": "https://localhost:8080/"
        },
        "id": "IynVKzvD0nFX",
        "outputId": "d0399321-3566-46e4-b679-9fa65e4b191b"
      },
      "execution_count": null,
      "outputs": [
        {
          "output_type": "execute_result",
          "data": {
            "text/plain": [
              "1.0"
            ]
          },
          "metadata": {},
          "execution_count": 35
        }
      ]
    },
    {
      "cell_type": "code",
      "source": [
        "# Write your code below. Don't forget to press SHift+Enter to execute the cell\n",
        "type(6/2)\n"
      ],
      "metadata": {
        "colab": {
          "base_uri": "https://localhost:8080/"
        },
        "id": "J2KgM2T50zEW",
        "outputId": "349be05d-5099-41dd-d668-efb280a42ae4"
      },
      "execution_count": null,
      "outputs": [
        {
          "output_type": "execute_result",
          "data": {
            "text/plain": [
              "float"
            ]
          },
          "metadata": {},
          "execution_count": 36
        }
      ]
    },
    {
      "cell_type": "code",
      "source": [
        "# Write your code below. Don't forget to press Shift+Enter\n",
        "type(6//2)\n"
      ],
      "metadata": {
        "colab": {
          "base_uri": "https://localhost:8080/"
        },
        "id": "H4U6kuse0_3d",
        "outputId": "80b188e2-acba-432c-a466-e706cc69c475"
      },
      "execution_count": null,
      "outputs": [
        {
          "output_type": "execute_result",
          "data": {
            "text/plain": [
              "int"
            ]
          },
          "metadata": {},
          "execution_count": 37
        }
      ]
    },
    {
      "cell_type": "code",
      "source": [
        "# Addition operation expression\n",
        "\n",
        "#43 + 60 + 41\n",
        "\n",
        "type(10.55+10.5-5)\n"
      ],
      "metadata": {
        "colab": {
          "base_uri": "https://localhost:8080/"
        },
        "id": "lWp7Nb161Ql-",
        "outputId": "f31e6829-6445-40e1-97a6-8f3de952988d"
      },
      "execution_count": null,
      "outputs": [
        {
          "output_type": "execute_result",
          "data": {
            "text/plain": [
              "float"
            ]
          },
          "metadata": {},
          "execution_count": 38
        }
      ]
    },
    {
      "cell_type": "code",
      "source": [
        "# Subtraction operation expression\n",
        "\n",
        "5 * 5\n"
      ],
      "metadata": {
        "colab": {
          "base_uri": "https://localhost:8080/"
        },
        "id": "Qf2bdX4W1evF",
        "outputId": "1a568c77-091b-4a56-8ecc-e1648a243c82"
      },
      "execution_count": null,
      "outputs": [
        {
          "output_type": "execute_result",
          "data": {
            "text/plain": [
              "25"
            ]
          },
          "metadata": {},
          "execution_count": 39
        }
      ]
    },
    {
      "cell_type": "code",
      "source": [
        "# Division operation expression\n",
        "\n",
        "25 / 5\n"
      ],
      "metadata": {
        "colab": {
          "base_uri": "https://localhost:8080/"
        },
        "id": "njSI-YN21sJt",
        "outputId": "bfaff2b4-82c3-4262-b439-5de2512020d1"
      },
      "execution_count": null,
      "outputs": [
        {
          "output_type": "execute_result",
          "data": {
            "text/plain": [
              "5.0"
            ]
          },
          "metadata": {},
          "execution_count": 41
        }
      ]
    },
    {
      "cell_type": "code",
      "source": [
        "# Division operation expression\n",
        "\n",
        "25 / 6\n"
      ],
      "metadata": {
        "colab": {
          "base_uri": "https://localhost:8080/"
        },
        "id": "_J1cxw3F2BfF",
        "outputId": "a09a749b-10f3-4851-d882-5db152fda78d"
      },
      "execution_count": null,
      "outputs": [
        {
          "output_type": "execute_result",
          "data": {
            "text/plain": [
              "4.166666666666667"
            ]
          },
          "metadata": {},
          "execution_count": 42
        }
      ]
    },
    {
      "cell_type": "code",
      "source": [
        "# Integer division operation expression\n",
        "\n",
        "25 // 5\n"
      ],
      "metadata": {
        "colab": {
          "base_uri": "https://localhost:8080/"
        },
        "id": "f5JqiB2d2L_t",
        "outputId": "f81ec7ac-8f3c-4c3b-a33b-cf77f98f619a"
      },
      "execution_count": null,
      "outputs": [
        {
          "output_type": "execute_result",
          "data": {
            "text/plain": [
              "5"
            ]
          },
          "metadata": {},
          "execution_count": 43
        }
      ]
    },
    {
      "cell_type": "code",
      "source": [
        "# Integer division operation expression\n",
        "\n",
        "25 // 6\n"
      ],
      "metadata": {
        "colab": {
          "base_uri": "https://localhost:8080/"
        },
        "id": "PgjdQ-gm2SDG",
        "outputId": "11cf7d50-c9ae-4f28-f4b4-73f463bad931"
      },
      "execution_count": null,
      "outputs": [
        {
          "output_type": "execute_result",
          "data": {
            "text/plain": [
              "4"
            ]
          },
          "metadata": {},
          "execution_count": 44
        }
      ]
    },
    {
      "cell_type": "code",
      "source": [
        "# Write you code below. Don't forget to press Shift+Enter\n",
        "160/60\n"
      ],
      "metadata": {
        "colab": {
          "base_uri": "https://localhost:8080/"
        },
        "id": "a25ZKozP2bMd",
        "outputId": "b3f636e1-f360-4306-80ea-b57b971b62de"
      },
      "execution_count": null,
      "outputs": [
        {
          "output_type": "execute_result",
          "data": {
            "text/plain": [
              "2.6666666666666665"
            ]
          },
          "metadata": {},
          "execution_count": 45
        }
      ]
    },
    {
      "cell_type": "code",
      "source": [
        "# Mathematical expression\n",
        "\n",
        "30 + 2 * 60 // 10\n"
      ],
      "metadata": {
        "colab": {
          "base_uri": "https://localhost:8080/"
        },
        "id": "17lNgQCs2m6s",
        "outputId": "cd8828ee-4059-48a9-cd26-9d7ef9b2c7f3"
      },
      "execution_count": null,
      "outputs": [
        {
          "output_type": "execute_result",
          "data": {
            "text/plain": [
              "42"
            ]
          },
          "metadata": {},
          "execution_count": 46
        }
      ]
    },
    {
      "cell_type": "code",
      "source": [
        "# Mathematical expression\n",
        "\n",
        "(30 + 2) * 60\n"
      ],
      "metadata": {
        "colab": {
          "base_uri": "https://localhost:8080/"
        },
        "id": "Iai6bwip2uq1",
        "outputId": "a71323f6-84ce-4e48-a6db-eb6cbe6e40b9"
      },
      "execution_count": null,
      "outputs": [
        {
          "output_type": "execute_result",
          "data": {
            "text/plain": [
              "1920"
            ]
          },
          "metadata": {},
          "execution_count": 47
        }
      ]
    },
    {
      "cell_type": "code",
      "source": [
        "# Store value into variable\n",
        "\n",
        "x = 43 + 60 + 16 + 41\n",
        "x\n"
      ],
      "metadata": {
        "colab": {
          "base_uri": "https://localhost:8080/"
        },
        "id": "2GU3-IMP23FN",
        "outputId": "bdfaf594-fef4-413c-f5e1-263254c87b85"
      },
      "execution_count": null,
      "outputs": [
        {
          "output_type": "execute_result",
          "data": {
            "text/plain": [
              "160"
            ]
          },
          "metadata": {},
          "execution_count": 49
        }
      ]
    },
    {
      "cell_type": "code",
      "source": [
        "# Use another variable to atore the result of the operation between variable and value\n",
        "\n",
        "y = x / 60\n",
        "y\n"
      ],
      "metadata": {
        "colab": {
          "base_uri": "https://localhost:8080/"
        },
        "id": "tPEM64JY3Bo9",
        "outputId": "78272319-dea8-4c4c-e8b2-0e1f572df206"
      },
      "execution_count": null,
      "outputs": [
        {
          "output_type": "execute_result",
          "data": {
            "text/plain": [
              "2.6666666666666665"
            ]
          },
          "metadata": {},
          "execution_count": 51
        }
      ]
    },
    {
      "cell_type": "code",
      "source": [
        "# Overwrite variable with new valu\n",
        "\n",
        "x = x / 60\n",
        "print(x)\n"
      ],
      "metadata": {
        "colab": {
          "base_uri": "https://localhost:8080/"
        },
        "id": "ULrq_kPx3JKM",
        "outputId": "4d191c59-de94-41bd-ea92-c2f1b407f031"
      },
      "execution_count": null,
      "outputs": [
        {
          "output_type": "stream",
          "name": "stdout",
          "text": [
            "2.6666666666666665\n"
          ]
        }
      ]
    },
    {
      "cell_type": "code",
      "source": [
        "x\n"
      ],
      "metadata": {
        "colab": {
          "base_uri": "https://localhost:8080/"
        },
        "id": "H8929olg3hXd",
        "outputId": "8e300a27-1253-4f3a-8980-cf49164368f9"
      },
      "execution_count": null,
      "outputs": [
        {
          "output_type": "execute_result",
          "data": {
            "text/plain": [
              "2.6666666666666665"
            ]
          },
          "metadata": {},
          "execution_count": 53
        }
      ]
    },
    {
      "cell_type": "code",
      "source": [
        "# Name the variables meaningfully\n",
        "\n",
        "total_min = 43 + 42 + 57 # Total length of albums in minutes\n",
        "total_min\n"
      ],
      "metadata": {
        "colab": {
          "base_uri": "https://localhost:8080/"
        },
        "id": "b1fKxxNv3kXl",
        "outputId": "f6039584-b3e1-4ff7-bcda-5ded8f64fe82"
      },
      "execution_count": null,
      "outputs": [
        {
          "output_type": "execute_result",
          "data": {
            "text/plain": [
              "142"
            ]
          },
          "metadata": {},
          "execution_count": 54
        }
      ]
    },
    {
      "cell_type": "code",
      "source": [
        "# Name the variable meaningfully\n",
        "\n",
        "total_min = 43 + 42 + 57 # Total length of albums in minute\n",
        "total_min\n"
      ],
      "metadata": {
        "colab": {
          "base_uri": "https://localhost:8080/"
        },
        "id": "odXTgaKk30cU",
        "outputId": "2db745a6-be72-4e8c-eb46-4a334fc841be"
      },
      "execution_count": null,
      "outputs": [
        {
          "output_type": "execute_result",
          "data": {
            "text/plain": [
              "142"
            ]
          },
          "metadata": {},
          "execution_count": 55
        }
      ]
    },
    {
      "cell_type": "code",
      "source": [
        "float(total_min)\n"
      ],
      "metadata": {
        "colab": {
          "base_uri": "https://localhost:8080/"
        },
        "id": "is0ss6Ie4IAk",
        "outputId": "46bb80d6-e2eb-4926-db00-5e1cbd5aa0ea"
      },
      "execution_count": null,
      "outputs": [
        {
          "output_type": "execute_result",
          "data": {
            "text/plain": [
              "142.0"
            ]
          },
          "metadata": {},
          "execution_count": 56
        }
      ]
    },
    {
      "cell_type": "code",
      "source": [
        "a=2\n",
        "a\n"
      ],
      "metadata": {
        "colab": {
          "base_uri": "https://localhost:8080/"
        },
        "id": "2wVQ1rVM4OXk",
        "outputId": "a2af0357-dd08-4b80-ee8a-ed91e826d93e"
      },
      "execution_count": null,
      "outputs": [
        {
          "output_type": "execute_result",
          "data": {
            "text/plain": [
              "2"
            ]
          },
          "metadata": {},
          "execution_count": 58
        }
      ]
    },
    {
      "cell_type": "code",
      "source": [
        "print(float(a))\n"
      ],
      "metadata": {
        "colab": {
          "base_uri": "https://localhost:8080/"
        },
        "id": "QE3aUk204VXt",
        "outputId": "8d1c7029-6ccd-4914-9752-72170bc75114"
      },
      "execution_count": null,
      "outputs": [
        {
          "output_type": "stream",
          "name": "stdout",
          "text": [
            "2.0\n"
          ]
        }
      ]
    },
    {
      "cell_type": "code",
      "source": [
        "# Name the variable meaningfully\n",
        "\n",
        "total_hours = total_min / 60 # Total length of albums in hours\n",
        "total_hours\n"
      ],
      "metadata": {
        "colab": {
          "base_uri": "https://localhost:8080/"
        },
        "id": "luIkFbye4ZkN",
        "outputId": "909eab05-568a-4dde-cd16-b95ac966a688"
      },
      "execution_count": null,
      "outputs": [
        {
          "output_type": "execute_result",
          "data": {
            "text/plain": [
              "2.3666666666666667"
            ]
          },
          "metadata": {},
          "execution_count": 60
        }
      ]
    },
    {
      "cell_type": "code",
      "source": [
        "# Complicate expression\n",
        "\n",
        "total_hours = (43 + 42 + 57) / 60\n",
        "total_hours\n"
      ],
      "metadata": {
        "colab": {
          "base_uri": "https://localhost:8080/"
        },
        "id": "yu0z-Ir84t0F",
        "outputId": "4244c710-a9d4-425a-e130-7674c08f6cd4"
      },
      "execution_count": null,
      "outputs": [
        {
          "output_type": "execute_result",
          "data": {
            "text/plain": [
              "2.3666666666666667"
            ]
          },
          "metadata": {},
          "execution_count": 61
        }
      ]
    },
    {
      "cell_type": "code",
      "source": [
        "# Write your code below. Don't forget to press Shift+Enter to execute the cell\n",
        "x = 3 + 2 * 2\n",
        "x\n"
      ],
      "metadata": {
        "colab": {
          "base_uri": "https://localhost:8080/"
        },
        "id": "j_NV_7sU48CM",
        "outputId": "0521d42d-f166-4d57-c702-033084f4797c"
      },
      "execution_count": null,
      "outputs": [
        {
          "output_type": "execute_result",
          "data": {
            "text/plain": [
              "7"
            ]
          },
          "metadata": {},
          "execution_count": 62
        }
      ]
    },
    {
      "cell_type": "code",
      "source": [
        "# Write your code below. Don't forget to press Shift+Enter to execute the cell\n",
        "y = (3 + 2) * 2\n",
        "y\n"
      ],
      "metadata": {
        "colab": {
          "base_uri": "https://localhost:8080/"
        },
        "id": "70pXmyuP5P5U",
        "outputId": "10430542-438c-4aa5-bf71-82f2c3cdea9c"
      },
      "execution_count": null,
      "outputs": [
        {
          "output_type": "execute_result",
          "data": {
            "text/plain": [
              "10"
            ]
          },
          "metadata": {},
          "execution_count": 63
        }
      ]
    },
    {
      "cell_type": "code",
      "source": [
        "# Write your code below. Don't forget to press Shift+Enter to execute the cell\n",
        "z = x + y\n",
        "z\n"
      ],
      "metadata": {
        "colab": {
          "base_uri": "https://localhost:8080/"
        },
        "id": "lGgOqwAg5d3U",
        "outputId": "ec500aa4-c2f1-478d-a32b-8dee657a0e74"
      },
      "execution_count": null,
      "outputs": [
        {
          "output_type": "execute_result",
          "data": {
            "text/plain": [
              "17"
            ]
          },
          "metadata": {},
          "execution_count": 64
        }
      ]
    },
    {
      "cell_type": "code",
      "source": [
        "panjang = 20.5\n",
        "lebar = 25\n",
        "tinggi = 10\n",
        "\n",
        "keliling = 2 * (panjang + lebar)\n",
        "luas = panjang * lebar\n",
        "volume = panjang * lebar * tinggi\n",
        "\n",
        "print(\"Panjang =\", panjang)\n",
        "print(\"Lebar =\", lebar)\n",
        "print(\"Tinggi =\", tinggi)\n",
        "print(\"Keliling =\", keliling)\n",
        "print(\"Luas =\", luas)\n",
        "print(\"Volume =\", volume)\n"
      ],
      "metadata": {
        "colab": {
          "base_uri": "https://localhost:8080/"
        },
        "id": "9hx_-Gmu5wxT",
        "outputId": "7cc7b179-43a7-474c-8992-d062606e360e"
      },
      "execution_count": null,
      "outputs": [
        {
          "output_type": "stream",
          "name": "stdout",
          "text": [
            "Panjang = 20.5\n",
            "Lebar = 25\n",
            "Tinggi = 10\n",
            "Keliling = 91.0\n",
            "Luas = 512.5\n",
            "Volume = 5125.0\n"
          ]
        }
      ]
    },
    {
      "cell_type": "code",
      "source": [
        "Shafira_Kalkulus = 85\n",
        "Shafira_Statistika = 75\n",
        "\n",
        "Amanda_Kalkulus = 80\n",
        "Amanda_Statistika = 90\n",
        "\n",
        "Aditya_Kalkulus = 75\n",
        "Aditya_Statistika = 80\n",
        "\n",
        "Nedia_Kalkulus = 95\n",
        "Nedia_Statistika = 80\n",
        "\n",
        "Widya_Kalkulus = 85\n",
        "Widya_Statistika = 85\n",
        "\n",
        "Hanif_Kalkulus = 75\n",
        "Hanif_Statistika = 90\n",
        "\n",
        "Andi_Kalkulus = 70\n",
        "Andi_Statistika = 75\n",
        "\n",
        "Dhanar_Kalkulus = 85\n",
        "Dhanar_Statistika = 85\n",
        "\n",
        "Hikma_Kalkulus = 80\n",
        "Hikma_Statistika = 75\n",
        "\n",
        "# 1. Rata-rata nilai Shafira pada kedua mata kuliah\n",
        "rata_rata_Shafira = (Shafira_Kalkulus + Shafira_Statistika) / 2\n",
        "\n",
        "# 2. Jumlah nilai Hanif dan Andi untuk semua mata kuliah\n",
        "jumlah_Hanif_Andi = (Hanif_Kalkulus + Hanif_Statistika + Andi_Kalkulus + Andi_Statistika)\n",
        "\n",
        "# 3. Rata-rata nilai Widya, Dhanar, Hikma, dan Nedia pada masing-masing mata kuliah\n",
        "rata_rata_Kalkulus_Widya_Dhanar_Hikma_Nedia = (Widya_Kalkulus + Dhanar_Kalkulus + Hikma_Kalkulus + Nedia_Kalkulus) / 4\n",
        "rata_rata_Statistika_Widya_Dhanar_Hikma_Nedia = (Widya_Statistika + Dhanar_Statistika + Hikma_Statistika + Nedia_Kalkulus) / 4\n",
        "\n",
        "# 4. Rata-rata nilai mata kuliah Kalkulus 1 untuk semua mahasiswa\n",
        "rata_rata_Kalkulus_all = (Shafira_Kalkulus + Amanda_Kalkulus + Aditya_Kalkulus + Nedia_Kalkulus + Widya_Kalkulus + Hanif_Kalkulus + Andi_Kalkulus + Dhanar_Kalkulus + Hikma_Kalkulus) / 9\n",
        "\n",
        "# 5. Rata-rata nilai mata kuliah Metode Statistika untuk semua mahasiswa\n",
        "rata_rata_Statistika_all = (Shafira_Statistika + Amanda_Statistika + Aditya_Statistika + Nedia_Statistika + Widya_Statistika + Hanif_Statistika + Andi_Statistika + Dhanar_Statistika + Hikma_Statistika) / 9\n",
        "\n",
        "print('1. Rata-rata nilai Shafira pada kedua mata kuliah:', rata_rata_Shafira)\n",
        "print('2. Jumlah nilai Hanif dan Andi untuk semua mata kuliah:', jumlah_Hanif_Andi)\n",
        "print('3. Rata-rata nilai Widya, Dhanar, Hikma, dan Nedia pada masing-masing mata kuliah:', rata_rata_Kalkulus_Widya_Dhanar_Hikma_Nedia)\n",
        "print('4. Rata-rata nilai mata kuliah Kalkulus 1 untuk semua mahasiswa:', rata_rata_Kalkulus_all)\n",
        "print('5. Rata-rata nilai mata kuliah Metode Statistika untuk semua mahasiswa:', rata_rata_Statistika_all\n",
        "\n"
      ],
      "metadata": {
        "colab": {
          "base_uri": "https://localhost:8080/"
        },
        "id": "0GM3ncj1O_GU",
        "outputId": "6dec0959-4d2b-46bd-c8ee-1bdd13ab3d51"
      },
      "execution_count": null,
      "outputs": [
        {
          "output_type": "stream",
          "name": "stdout",
          "text": [
            "1. Rata-rata nilai Shafira pada kedua mata kuliah: 80.0\n",
            "2. Jumlah nilai Hanif dan Andi untuk semua mata kuliah: 310\n",
            "3. Rata-rata nilai Widya, Dhanar, Hikma, dan Nedia pada masing-masing mata kuliah: 86.25\n",
            "4. Rata-rata nilai mata kuliah Kalkulus 1 untuk semua mahasiswa: 81.11111111111111\n",
            "5. Rata-rata nilai mata kuliah Metode Statistika untuk semua mahasiswa: 81.66666666666667\n"
          ]
        }
      ]
    },
    {
      "cell_type": "code",
      "source": [
        "jam_kerja_per_hari = 8\n",
        "tarif_per_jam = 30000\n",
        "jumlah_hari_agustus = 31\n",
        "hari_tidak_masuk = 3\n",
        "persen_tunjangan = 0.10\n",
        "upah_lembur_per_jam = 10000\n",
        "jam_lembur = 5\n",
        "\n",
        "# Hitung jumlah hari kerja\n",
        "hari_kerja = jumlah_hari_agustus - hari_tidak_masuk\n",
        "\n",
        "# 1. Hitung gaji bulan Agustus\n",
        "gaji_bulanan = hari_kerja * jam_kerja_per_hari * tarif_per_jam\n",
        "\n",
        "# 2. Hitung tunjangan\n",
        "tunjangan = gaji_bulanan * persen_tunjangan\n",
        "\n",
        "# 3. Hitung gaji total dengan lembur\n",
        "total_gaji_jika_lembur = gaji_bulanan + (jam_lembur * upah_lembur_per_jam)\n",
        "\n",
        "print('1. Gaji pada bulan Agustus jika Dwi tidak masuk kerja selama 3 hari: Rp', gaji_bulanan)\n",
        "print('2. Jumlah tunjangan yang diterima oleh Dwi pada bulan Agustus: Rp', tunjangan)\n",
        "print('3. Gaji total yang diterima oleh Dwi pada bulan Agustus dengan lembur 5 jam: Rp', total_gaji_jika_lembur)\n"
      ],
      "metadata": {
        "colab": {
          "base_uri": "https://localhost:8080/"
        },
        "id": "inkz0_9cA8T4",
        "outputId": "edaa9fb6-6914-4788-e214-031e97d966bf"
      },
      "execution_count": null,
      "outputs": [
        {
          "output_type": "stream",
          "name": "stdout",
          "text": [
            "1. Gaji pada bulan Agustus jika Dwi tidak masuk kerja selama 3 hari: Rp 6720000\n",
            "2. Jumlah tunjangan yang diterima oleh Dwi pada bulan Agustus: Rp 672000.0\n",
            "3. Gaji total yang diterima oleh Dwi pada bulan Agustus dengan lembur 5 jam: Rp 6770000\n"
          ]
        }
      ]
    }
  ]
}
