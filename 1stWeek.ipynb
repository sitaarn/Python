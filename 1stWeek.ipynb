{
  "nbformat": 4,
  "nbformat_minor": 0,
  "metadata": {
    "colab": {
      "provenance": [],
      "authorship_tag": "ABX9TyP0py5Fhz++UpPJ550Y4eME",
      "include_colab_link": true
    },
    "kernelspec": {
      "name": "python3",
      "display_name": "Python 3"
    },
    "language_info": {
      "name": "python"
    }
  },
  "cells": [
    {
      "cell_type": "markdown",
      "metadata": {
        "id": "view-in-github",
        "colab_type": "text"
      },
      "source": [
        "<a href=\"https://colab.research.google.com/github/sitaarn/Python-/blob/main/1stWeek.ipynb\" target=\"_parent\"><img src=\"https://colab.research.google.com/assets/colab-badge.svg\" alt=\"Open In Colab\"/></a>"
      ]
    },
    {
      "cell_type": "code",
      "execution_count": null,
      "metadata": {
        "colab": {
          "base_uri": "https://localhost:8080/"
        },
        "id": "PAhseT17fgNo",
        "outputId": "461de90f-89f5-492b-ca0d-2eaa2e6522a7"
      },
      "outputs": [
        {
          "output_type": "stream",
          "name": "stdout",
          "text": [
            "Hello, Python!\n"
          ]
        }
      ],
      "source": [
        "# Try your first Python output\n",
        "print('Hello, Python!')"
      ]
    },
    {
      "cell_type": "code",
      "source": [
        "# Try to display \"Teknologi Informasi - Universitas Tidar\"\n",
        "print('\"Teknologi Informasi - Universitas Tidar\"')"
      ],
      "metadata": {
        "colab": {
          "base_uri": "https://localhost:8080/"
        },
        "id": "3xYmFQzXhHNf",
        "outputId": "579fd24f-cf2e-4073-b956-24c0495db50f"
      },
      "execution_count": null,
      "outputs": [
        {
          "output_type": "stream",
          "name": "stdout",
          "text": [
            "\"Teknologi Informasi - Universitas Tidar\"\n"
          ]
        }
      ]
    },
    {
      "cell_type": "code",
      "source": [
        "# Check the Python Version\n",
        "import sys\n",
        "print(sys.version)"
      ],
      "metadata": {
        "colab": {
          "base_uri": "https://localhost:8080/"
        },
        "id": "ttILL88bifDV",
        "outputId": "8a8887e0-2bb2-49ce-bfb0-f656836f79be"
      },
      "execution_count": null,
      "outputs": [
        {
          "output_type": "stream",
          "name": "stdout",
          "text": [
            "3.10.12 (main, Jul 29 2024, 16:56:48) [GCC 11.4.0]\n"
          ]
        }
      ]
    },
    {
      "cell_type": "code",
      "source": [
        "# Practice on writing comments\n",
        "print('Hello, Python') # This line prints a string\n",
        "print('Hi') #untuk print Hi\n"
      ],
      "metadata": {
        "colab": {
          "base_uri": "https://localhost:8080/"
        },
        "id": "o9RBC31ujMKV",
        "outputId": "37ee8587-6dc1-4cc6-8c2e-19095f18fe30"
      },
      "execution_count": null,
      "outputs": [
        {
          "output_type": "stream",
          "name": "stdout",
          "text": [
            "Hello, Python\n",
            "Hi\n"
          ]
        }
      ]
    },
    {
      "cell_type": "code",
      "source": [
        "# Print string as error message\n",
        "frint(\"Hello, Python\")  \"frint\" is not defined"
      ],
      "metadata": {
        "colab": {
          "base_uri": "https://localhost:8080/",
          "height": 159
        },
        "id": "hzHEEqFxj8r1",
        "outputId": "19baa0ac-5c61-4f36-9b2d-e4a572308667"
      },
      "execution_count": null,
      "outputs": [
        {
          "output_type": "error",
          "ename": "NameError",
          "evalue": "name 'frint' is not defined",
          "traceback": [
            "\u001b[0;31m---------------------------------------------------------------------------\u001b[0m",
            "\u001b[0;31mNameError\u001b[0m                                 Traceback (most recent call last)",
            "\u001b[0;32m<ipython-input-6-72a4396df82d>\u001b[0m in \u001b[0;36m<cell line: 2>\u001b[0;34m()\u001b[0m\n\u001b[1;32m      1\u001b[0m \u001b[0;31m# Print string as error message\u001b[0m\u001b[0;34m\u001b[0m\u001b[0;34m\u001b[0m\u001b[0m\n\u001b[0;32m----> 2\u001b[0;31m \u001b[0mfrint\u001b[0m \u001b[0;34m(\u001b[0m\u001b[0;34m\"Hello, Python\"\u001b[0m\u001b[0;34m)\u001b[0m\u001b[0;34m\u001b[0m\u001b[0;34m\u001b[0m\u001b[0m\n\u001b[0m",
            "\u001b[0;31mNameError\u001b[0m: name 'frint' is not defined"
          ]
        }
      ]
    },
    {
      "cell_type": "code",
      "source": [
        "# Try to see build in error message\n",
        "print(\"Hello, Python!) String literal is unterminated"
      ],
      "metadata": {
        "colab": {
          "base_uri": "https://localhost:8080/",
          "height": 106
        },
        "id": "os_CBWjwkxhs",
        "outputId": "56843b8a-879f-4a6b-d8a7-d275c60ea230"
      },
      "execution_count": null,
      "outputs": [
        {
          "output_type": "error",
          "ename": "SyntaxError",
          "evalue": "unterminated string literal (detected at line 2) (<ipython-input-11-c01161d9eaf1>, line 2)",
          "traceback": [
            "\u001b[0;36m  File \u001b[0;32m\"<ipython-input-11-c01161d9eaf1>\"\u001b[0;36m, line \u001b[0;32m2\u001b[0m\n\u001b[0;31m    print (\"Hello, Python!) String literal is unterminated\u001b[0m\n\u001b[0m           ^\u001b[0m\n\u001b[0;31mSyntaxError\u001b[0m\u001b[0;31m:\u001b[0m unterminated string literal (detected at line 2)\n"
          ]
        }
      ]
    },
    {
      "cell_type": "code",
      "source": [
        "# Print string and error to see the running order\n",
        "print(\"This will be printed\")\n",
        "frint(\"This will cause an error\")  \"frint\" is not defined\n",
        "print(\"This will not be printed\")"
      ],
      "metadata": {
        "colab": {
          "base_uri": "https://localhost:8080/",
          "height": 106
        },
        "id": "S9OsAT_rln6l",
        "outputId": "67b9ed82-cd92-4c8a-8636-5f2103982e95"
      },
      "execution_count": null,
      "outputs": [
        {
          "output_type": "error",
          "ename": "SyntaxError",
          "evalue": "invalid syntax (<ipython-input-13-8ffe8911b947>, line 3)",
          "traceback": [
            "\u001b[0;36m  File \u001b[0;32m\"<ipython-input-13-8ffe8911b947>\"\u001b[0;36m, line \u001b[0;32m3\u001b[0m\n\u001b[0;31m    frint(\"This will cause an error\")  \"frint\" is not defined\u001b[0m\n\u001b[0m                                       ^\u001b[0m\n\u001b[0;31mSyntaxError\u001b[0m\u001b[0;31m:\u001b[0m invalid syntax\n"
          ]
        }
      ]
    },
    {
      "cell_type": "code",
      "source": [
        "# Write your code below and press Shift+Enter to execute\n"
      ],
      "metadata": {
        "id": "t8T5vwvEnNJ9"
      },
      "execution_count": null,
      "outputs": []
    },
    {
      "cell_type": "code",
      "source": [
        "# Write your code below and press Shift+Enter to execute\n",
        "\n",
        "print('Hello, World!')"
      ],
      "metadata": {
        "id": "kEQf2TWynYnj",
        "colab": {
          "base_uri": "https://localhost:8080/"
        },
        "outputId": "4b9fe56e-ef33-44f1-cd57-57321632bdd9"
      },
      "execution_count": null,
      "outputs": [
        {
          "output_type": "stream",
          "name": "stdout",
          "text": [
            "Hello, World!\n"
          ]
        }
      ]
    },
    {
      "cell_type": "code",
      "source": [
        "# Create Your Biodata using Python code\n",
        "\n",
        "print('Nama           : Ida Ayu Sita Maheswari Arianti')\n",
        "print('')\n",
        "print('NPM            : 2410506014')\n",
        "print('')\n",
        "print('Alamat         : Jl. Sunan Bonang IV No. 19, Kota Magelang, Jawa Tengah')\n",
        "print('')\n",
        "print('Tinggi Badan   : 167')\n",
        "print('')\n",
        "print('Berat Badan    : 51')"
      ],
      "metadata": {
        "colab": {
          "base_uri": "https://localhost:8080/"
        },
        "id": "2YhAxaLInwyM",
        "outputId": "922a167b-80ad-4912-9835-719467fb4c79"
      },
      "execution_count": null,
      "outputs": [
        {
          "output_type": "stream",
          "name": "stdout",
          "text": [
            "Nama           : Ida Ayu Sita Maheswari Arianti\n",
            "\n",
            "NPM            : 2410506014\n",
            "\n",
            "Alamat         : Jl. Sunan Bonang IV No. 19, Kota Magelang, Jawa Tengah\n",
            "\n",
            "Tinggi Badan   : 167\n",
            "\n",
            "Berat Badan    : 51\n"
          ]
        }
      ]
    },
    {
      "cell_type": "code",
      "source": [
        "# Create a program to display text\n",
        "\n",
        "print('\\033[1mUNIVERSITAS TIDAR \\033[0m')\n",
        "print('Universitas Tidar merupakan Perguruan Tinggi Pemerintah atau Perguruan Tinggi Negeri yang telah ditetapkan berdasarkan Peraturan Presiden Republik Indonesia Nomor 23 Tahun 2014 pada tanggal 1 April 2014')\n",
        "print('')\n",
        "print('\\033[1mJURUSAN TEKNIK ELEKTRO, MEKATRONIKA DAN INFORMASI \\033[0m')\n",
        "print('Jurusan Teknik Elektro terdiri atas tiga program studi, antara lain:')\n",
        "print('     1. S1 Teknik Elektro (\\x1B[3mBachelor of Electrical Engineering) \\x1B[0m')\n",
        "print('     2. S1 Teknologi Informasi (\\x1B[3mBachelor of Information Technology\\x1B[0m)')\n",
        "print('     3. S1 Teknik Mekatronika (\\x1B[3mBachelor of Mechatronics Engineering\\x1B[0m)')"
      ],
      "metadata": {
        "colab": {
          "base_uri": "https://localhost:8080/"
        },
        "id": "Yb_tEgwmp3S8",
        "outputId": "8b7ec1c7-2476-48ee-d614-1600a5bb6d26"
      },
      "execution_count": null,
      "outputs": [
        {
          "output_type": "stream",
          "name": "stdout",
          "text": [
            "\u001b[1mUNIVERSITAS TIDAR \u001b[0m\n",
            "Universitas Tidar merupakan Perguruan Tinggi Pemerintah atau Perguruan Tinggi Negeri yang telah ditetapkan berdasarkan Peraturan Presiden Republik Indonesia Nomor 23 Tahun 2014 pada tanggal 1 April 2014\n",
            "\n",
            "\u001b[1mJURUSAN TEKNIK ELEKTRO, MEKATRONIKA DAN INFORMASI \u001b[0m\n",
            "Jurusan Teknik Elektro terdiri atas tiga program studi, antara lain:\n",
            "     1. S1 Teknik Elektro (\u001b[3mBachelor of Electrical Engineering) \u001b[0m\n",
            "     2. S1 Teknologi Informasi (\u001b[3mBachelor of Information Technology\u001b[0m)\n",
            "     3. S1 Teknik Mekatronika (\u001b[3mBachelor of Mechatronics Engineering\u001b[0m)\n"
          ]
        }
      ]
    }
  ]
}